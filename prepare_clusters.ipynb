{
 "cells": [
  {
   "cell_type": "code",
   "execution_count": 1,
   "id": "2ef7ef67-2be6-4903-80ca-d0a214c46b57",
   "metadata": {},
   "outputs": [],
   "source": [
    "import pandas as pd\n",
    "import pickle \n",
    "import process as p"
   ]
  },
  {
   "cell_type": "code",
   "execution_count": 2,
   "id": "39d8ba9c-6d07-4698-a4c6-cbf781bfe5f8",
   "metadata": {},
   "outputs": [],
   "source": [
    "data = pd.read_csv(\"data/watched_data.csv\")"
   ]
  },
  {
   "cell_type": "code",
   "execution_count": 3,
   "id": "fa852f1c-9216-46f5-a2e1-cf57678b52b7",
   "metadata": {},
   "outputs": [],
   "source": [
    "li = []\n",
    "for i in range(0, 7):\n",
    "    tf = p.get_tfidf(data.description.values)\n",
    "    li.append(p.get_labels(tf, i + 4).labels_)\n",
    "with open('clusters.pickle', 'wb') as f:\n",
    "    pickle.dump(li, f)"
   ]
  },
  {
   "cell_type": "code",
   "execution_count": null,
   "id": "f980dce8-cf3a-4f11-80ac-aa5b9a42acc4",
   "metadata": {},
   "outputs": [],
   "source": []
  }
 ],
 "metadata": {
  "kernelspec": {
   "display_name": "Python 3 (ipykernel)",
   "language": "python",
   "name": "python3"
  },
  "language_info": {
   "codemirror_mode": {
    "name": "ipython",
    "version": 3
   },
   "file_extension": ".py",
   "mimetype": "text/x-python",
   "name": "python",
   "nbconvert_exporter": "python",
   "pygments_lexer": "ipython3",
   "version": "3.9.10"
  }
 },
 "nbformat": 4,
 "nbformat_minor": 5
}
